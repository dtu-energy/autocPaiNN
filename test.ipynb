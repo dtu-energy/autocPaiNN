{
 "cells": [
  {
   "cell_type": "code",
   "execution_count": null,
   "metadata": {},
   "outputs": [],
   "source": [
    "from ase.io import read, write\n",
    "from ase.db import connect\n",
    "\n",
    "nafepo4 = read('/home/energy/mahpe/NaMPO4_olivine_FeMnCoNi/relaxation_newversion/0_Fe_Fe4Na4O16P4/OUTCAR',index=-1)\n",
    "namnpo4 = read('/home/energy/mahpe/NaMPO4_olivine_FeMnCoNi/relaxation_newversion/0_Mn_Mn4Na4O16P4/OUTCAR',index=-1)\n",
    "nacopo4 = read('/home/energy/mahpe/NaMPO4_olivine_FeMnCoNi/relaxation_newversion/0_Co_Co4Na4O16P4/OUTCAR',index=-1)\n",
    "nanipo4 = read('/home/energy/mahpe/NaMPO4_olivine_FeMnCoNi/relaxation_newversion/0_Ni_Ni4Na4O16P4/OUTCAR',index=-1)\n",
    "\n",
    "root_dir = '/home/energy/mahpe/Published_code/autocPaiNN/Example_data/'\n",
    "write(root_dir+'NaFePO4.traj',nafepo4)\n",
    "write(root_dir+'NaMnPO4.traj',namnpo4)\n",
    "write(root_dir+'NaCoPO4.traj',nacopo4)\n",
    "write(root_dir+'NaNiPO4.traj',nanipo4)"
   ]
  },
  {
   "cell_type": "code",
   "execution_count": 16,
   "metadata": {},
   "outputs": [],
   "source": [
    "from ase.io import read, write\n",
    "from ase.db import connect\n",
    "nafepo4_init = read('/home/energy/mahpe/NaMPO4_olivine_FeMnCoNi/NEB/initial/Fe24Na23O96P24/OUTCAR',index=0)\n",
    "nafepo4_final = read('/home/energy/mahpe/NaMPO4_olivine_FeMnCoNi/NEB/final/Fe24Na23O96P24/OUTCAR',index=0)\n",
    "root_dir = '/home/energy/mahpe/Published_code/autocPaiNN/Example_data/'\n",
    "write(root_dir+'NaFePO4_init.traj',nafepo4_init)\n",
    "write(root_dir+'NaFePO4_final.traj',nafepo4_final)"
   ]
  },
  {
   "cell_type": "code",
   "execution_count": 17,
   "metadata": {},
   "outputs": [
    {
     "data": {
      "text/plain": [
       "(Cell([10.4063, 18.6561, 9.8938]), Cell([10.4063, 18.6561, 9.8938]))"
      ]
     },
     "execution_count": 17,
     "metadata": {},
     "output_type": "execute_result"
    }
   ],
   "source": [
    "nafepo4_init.cell, nafepo4_final.cell"
   ]
  },
  {
   "cell_type": "code",
   "execution_count": 3,
   "metadata": {},
   "outputs": [
    {
     "data": {
      "text/plain": [
       "{'global': {'run_path': '/home/energy/mahpe/Published_code/autocPaiNN/Example',\n",
       "  'random_seed': 3407,\n",
       "  'max_iteration': 10},\n",
       " 'train': {'cutoff': 4.0,\n",
       "  'val_ratio': 0.1,\n",
       "  'node_size': 64,\n",
       "  'num_interactions': 4,\n",
       "  'output_dir': 'model_output',\n",
       "  'dataset': '/home/energy/mahpe/Published_code/polyanion_cathode_dataset/Combined.xyz',\n",
       "  'max_steps': 1500000,\n",
       "  'batch_size': 20,\n",
       "  'initial_lr': 0.0001,\n",
       "  'forces_weight': 0.98,\n",
       "  'charge_weight': 0.1,\n",
       "  'stress_weight': 1000,\n",
       "  'log_interval': 2000,\n",
       "  'plateau_scheduler': True,\n",
       "  'normalization': True,\n",
       "  'atomwise_normalization': True,\n",
       "  'stop_patience': 1000,\n",
       "  'compute_forces': True,\n",
       "  'compute_stress': True,\n",
       "  'compute_magmom': True,\n",
       "  'compute_bader_charge': False,\n",
       "  'stop_after_train': False,\n",
       "  'load_prev_iter_model': True,\n",
       "  'ensemble': {'128_node_4_layer': {'node_size': 128, 'num_interactions': 4},\n",
       "   '256_node_4_layer': {'node_size': 256, 'num_interactions': 4},\n",
       "   '512_node_4_layer': {'node_size': 512, 'num_interactions': 4}}},\n",
       " 'simulate': {'MD': {'time_step': 1,\n",
       "   'temperature': 1000,\n",
       "   'device': 'cpu',\n",
       "   'start_indice': -1,\n",
       "   'max_steps': 1000,\n",
       "   'min_steps': 1000,\n",
       "   'dump_step': 1,\n",
       "   'print_step': 1,\n",
       "   'num_uncertain': 1000,\n",
       "   'max_force_sd': 0.5,\n",
       "   'force_sd_threshold': 0.2},\n",
       "  'NEB': {'opt_steps': 200,\n",
       "   'opt_fmax': 0.05,\n",
       "   'neb_steps': 1000,\n",
       "   'neb_fmax': 0.05,\n",
       "   'num_img': 5,\n",
       "   'climb': False,\n",
       "   'friction_MD': 0.003,\n",
       "   'temperature_MD': 1500,\n",
       "   'time_MD': 1,\n",
       "   'time_step_MD': 1,\n",
       "   'print_step': 1,\n",
       "   'device': 'cpu'},\n",
       "  'runs': {'NaCoPO4': {'method': 'MD',\n",
       "    'init_traj': '/home/energy/mahpe/Published_code/autocPaiNN/Example_data/NaCoPO4.traj'},\n",
       "   'NaFePO4': {'method': 'MD',\n",
       "    'init_traj': '/home/energy/mahpe/Published_code/autocPaiNN/Example_data/NaFePO4.traj'},\n",
       "   'NaMnPO4': {'method': 'MD',\n",
       "    'init_traj': '/home/energy/mahpe/Published_code/autocPaiNN/Example_data/NaMnPO4.traj'},\n",
       "   'NaNiPO4': {'method': 'MD',\n",
       "    'init_traj': '/home/energy/mahpe/Published_code/autocPaiNN/Example_data/NaNiPO4.traj'},\n",
       "   'NaFePO4_NEB': {'method': 'NEB',\n",
       "    'initial_image': '/home/energy/mahpe/Published_code/autocPaiNN/Example_data/NaFePO4_init.traj',\n",
       "    'final_image': '/home/energy/mahpe/Published_code/autocPaiNN/Example_data/NaFePO4_final.traj'}}},\n",
       " 'select': {'train_set': '/home/energy/mahpe/Published_code/polyanion_cathode_dataset/Combined.xyz',\n",
       "  'kernel': 'full-g',\n",
       "  'selection': 'lcmd_greedy',\n",
       "  'n_random_features': 500,\n",
       "  'batch_size': 10,\n",
       "  'device': 'cpu',\n",
       "  'runs': {'NaCoPO4': {'method': 'MD'},\n",
       "   'NaFePO4': {'method': 'MD'},\n",
       "   'NaMnPO4': {'method': 'MD'},\n",
       "   'NaNiPO4': {'method': 'MD'},\n",
       "   'NaFePO4_NEB': {'method': 'NEB'}}},\n",
       " 'labeling': {'train_set': '/home/energy/mahpe/Published_code/polyanion_cathode_dataset/Combined.xyz',\n",
       "  'method': 'VASP',\n",
       "  'runs': {'NaCoPO4': {'nupdown': 48,\n",
       "    'ldau_luj': {'Co': {'L': 2, 'U': 3.32, 'J': 0}}},\n",
       "   'NaFePO4': {'nupdown': 64, 'ldau_luj': {'Fe': {'L': 2, 'U': 5.3, 'J': 0}}},\n",
       "   'NaMnPO4': {'nupdown': 80, 'ldau_luj': {'Mn': {'L': 2, 'U': 3.9, 'J': 0}}},\n",
       "   'NaNiPO4': {'nupdown': 32, 'ldau_luj': {'Ni': {'L': 2, 'U': 6.2, 'J': 0}}},\n",
       "   'NaFePO4_NEB': {'nupdown': 64,\n",
       "    'ldau_luj': {'Fe': {'L': 2, 'U': 5.3, 'J': 0}}}},\n",
       "  'VASP': {'xc': 'PBE',\n",
       "   'encut': 520,\n",
       "   'sigma': 0.05,\n",
       "   'ediff': 1e-06,\n",
       "   'ediffg': -0.02,\n",
       "   'algo': 'all',\n",
       "   'prec': 'accurate',\n",
       "   'ibrion': 2,\n",
       "   'isif': 3,\n",
       "   'ismear': 0,\n",
       "   'ispin': 2,\n",
       "   'nelmin': 8,\n",
       "   'nelm': 400,\n",
       "   'lmaxmix': 4,\n",
       "   'nsw': 1,\n",
       "   'lorbit': 12,\n",
       "   'ncore': 8,\n",
       "   'lcharg': True,\n",
       "   'lreal': 'auto',\n",
       "   'ldau': True,\n",
       "   'gamma': True,\n",
       "   'lwave': False,\n",
       "   'istart': 0,\n",
       "   'isym': 0,\n",
       "   'symprec': 1e-07,\n",
       "   'lasph': True,\n",
       "   'time': 0.05,\n",
       "   'command': 'mpirun vasp_std',\n",
       "   'setups': 'materialsproject',\n",
       "   'kpts': [3, 2, 3],\n",
       "   'nupdown': 20,\n",
       "   'ldau_luj': {'Fe': {'L': 2, 'U': 5.3, 'J': 0}}},\n",
       "  'GPAW': {'xc': 'PBE',\n",
       "   'mode': {'name': 'pw', 'ecut': 520},\n",
       "   'eigensolver': {'name': 'dav', 'niter': 1},\n",
       "   'occupations': {'name': 'fermi-dirac', 'width': 0.05, 'fixmagmom': True},\n",
       "   'maxiter': 200,\n",
       "   'kpts': [3, 2, 2]}}}"
      ]
     },
     "execution_count": 3,
     "metadata": {},
     "output_type": "execute_result"
    }
   ],
   "source": [
    "from pathlib import Path\n",
    "import toml, os\n",
    "import numpy as np\n",
    "\n",
    "### Paths ###\n",
    "main_path = Path('/home/energy/mahpe/Published_code/autocPaiNN') # path to the auto-cPaiNN code\n",
    "\n",
    "### Load config file ###\n",
    "config = toml.load(main_path/'config.toml')\n",
    "config"
   ]
  },
  {
   "cell_type": "code",
   "execution_count": 12,
   "metadata": {},
   "outputs": [
    {
     "name": "stdout",
     "output_type": "stream",
     "text": [
      "NO\n"
     ]
    }
   ],
   "source": [
    "if 'ensemble' in config['train'].keys():\n",
    "    print('Here')\n",
    "else: \n",
    "    print('NO')"
   ]
  },
  {
   "cell_type": "code",
   "execution_count": 14,
   "metadata": {},
   "outputs": [
    {
     "name": "stdout",
     "output_type": "stream",
     "text": [
      "INDEX_KW: pq_index\n",
      "DYNAMICWIDTHGROUP_KEY: pq_dwg_width\n",
      "CYCLICALGROUP_KEY: pq_toggle_key\n",
      "ITER_KW: pq_iteration\n"
     ]
    }
   ],
   "source": [
    "from perqueue.constants import INDEX_KW , DYNAMICWIDTHGROUP_KEY,CYCLICALGROUP_KEY, ITER_KW\n",
    "print('INDEX_KW:',INDEX_KW)\n",
    "print('DYNAMICWIDTHGROUP_KEY:',DYNAMICWIDTHGROUP_KEY)\n",
    "print('CYCLICALGROUP_KEY:',CYCLICALGROUP_KEY)\n",
    "print('ITER_KW:',ITER_KW)"
   ]
  },
  {
   "cell_type": "code",
   "execution_count": 6,
   "metadata": {},
   "outputs": [
    {
     "data": {
      "text/plain": [
       "(['NaCoPO4', 'NaFePO4', 'NaMnPO4', 'NaNiPO4'], 4)"
      ]
     },
     "execution_count": 6,
     "metadata": {},
     "output_type": "execute_result"
    }
   ],
   "source": [
    "# Find simulation keys\n",
    "run_list = list(config['MD']['runs'].keys())\n",
    "dmkey = len(run_list)\n",
    "run_list, dmkey"
   ]
  },
  {
   "cell_type": "code",
   "execution_count": 12,
   "metadata": {},
   "outputs": [
    {
     "data": {
      "text/plain": [
       "{'MD': {'time_step': 1,\n",
       "  'temperature': 1000,\n",
       "  'device': 'cuda',\n",
       "  'start_indice': 100,\n",
       "  'max_steps': 2000000,\n",
       "  'min_steps': 1000,\n",
       "  'dump_step': 100,\n",
       "  'print_step': 1,\n",
       "  'num_uncertain': 1000},\n",
       " 'NEB': {'fmax': 0.05,\n",
       "  'num_img': 5,\n",
       "  'friction_MD': 0.003,\n",
       "  'temperature_MD': 1500,\n",
       "  'time_MD': 1,\n",
       "  'time_step_MD': 1,\n",
       "  'print_step': 1},\n",
       " 'runs': {'NaCoPO4': {'method': 'MD',\n",
       "   'init_traj': 'Example_data/NaCoPO4.traj'},\n",
       "  'NaFePO4': {'method': 'MD', 'init_traj': 'Example_data/NaFePO4.traj'},\n",
       "  'NaMnPO4': {'method': 'MD', 'init_traj': 'Example_data/NaMnPO4.traj'},\n",
       "  'NaNiPO4': {'method': 'MD', 'init_traj': 'Example_data/NaNiPO4.traj'},\n",
       "  'NaFePO4_NEB': {'method': 'NEB',\n",
       "   'initial_image': 'Example_data/NaFePO4_init.traj',\n",
       "   'final_image': 'Example_data/NaFePO4_final.traj'}}}"
      ]
     },
     "execution_count": 12,
     "metadata": {},
     "output_type": "execute_result"
    }
   ],
   "source": [
    "config['Simulate']"
   ]
  },
  {
   "cell_type": "code",
   "execution_count": 20,
   "metadata": {},
   "outputs": [
    {
     "data": {
      "text/plain": [
       "['/home/energy/mahpe/Published_code/autocPaiNN/Example/simulate/iter_0/NaFePO4/MD.traj',\n",
       " '/home/energy/mahpe/Published_code/autocPaiNN/Example/simulate/iter_0/NaFePO4/warning_struct.traj']"
      ]
     },
     "execution_count": 20,
     "metadata": {},
     "output_type": "execute_result"
    }
   ],
   "source": [
    "file_dir = '/home/energy/mahpe/Published_code/autocPaiNN/Example/select/iter_0/NaFePO4/selected.json'\n",
    "\n",
    "import json\n",
    "with open(file_dir) as f:\n",
    "    data = json.load(f)\n",
    "data['dataset']"
   ]
  }
 ],
 "metadata": {
  "kernelspec": {
   "display_name": "env_sylg",
   "language": "python",
   "name": "python3"
  },
  "language_info": {
   "codemirror_mode": {
    "name": "ipython",
    "version": 3
   },
   "file_extension": ".py",
   "mimetype": "text/x-python",
   "name": "python",
   "nbconvert_exporter": "python",
   "pygments_lexer": "ipython3",
   "version": "3.11.7"
  }
 },
 "nbformat": 4,
 "nbformat_minor": 2
}
