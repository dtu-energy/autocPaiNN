{
 "cells": [
  {
   "cell_type": "code",
   "execution_count": null,
   "metadata": {},
   "outputs": [],
   "source": [
    "from ase.io import read, write\n",
    "from ase.db import connect\n",
    "\n",
    "nafepo4 = read('/home/energy/mahpe/NaMPO4_olivine_FeMnCoNi/relaxation_newversion/0_Fe_Fe4Na4O16P4/OUTCAR',index=-1)\n",
    "namnpo4 = read('/home/energy/mahpe/NaMPO4_olivine_FeMnCoNi/relaxation_newversion/0_Mn_Mn4Na4O16P4/OUTCAR',index=-1)\n",
    "nacopo4 = read('/home/energy/mahpe/NaMPO4_olivine_FeMnCoNi/relaxation_newversion/0_Co_Co4Na4O16P4/OUTCAR',index=-1)\n",
    "nanipo4 = read('/home/energy/mahpe/NaMPO4_olivine_FeMnCoNi/relaxation_newversion/0_Ni_Ni4Na4O16P4/OUTCAR',index=-1)\n",
    "\n",
    "root_dir = '/home/energy/mahpe/Published_code/autocPaiNN/Example_data/'\n",
    "write(root_dir+'NaFePO4.traj',nafepo4)\n",
    "write(root_dir+'NaMnPO4.traj',namnpo4)\n",
    "write(root_dir+'NaCoPO4.traj',nacopo4)\n",
    "write(root_dir+'NaNiPO4.traj',nanipo4)"
   ]
  },
  {
   "cell_type": "code",
   "execution_count": 16,
   "metadata": {},
   "outputs": [],
   "source": [
    "from ase.io import read, write\n",
    "from ase.db import connect\n",
    "nafepo4_init = read('/home/energy/mahpe/NaMPO4_olivine_FeMnCoNi/NEB/initial/Fe24Na23O96P24/OUTCAR',index=0)\n",
    "nafepo4_final = read('/home/energy/mahpe/NaMPO4_olivine_FeMnCoNi/NEB/final/Fe24Na23O96P24/OUTCAR',index=0)\n",
    "root_dir = '/home/energy/mahpe/Published_code/autocPaiNN/Example_data/'\n",
    "write(root_dir+'NaFePO4_init.traj',nafepo4_init)\n",
    "write(root_dir+'NaFePO4_final.traj',nafepo4_final)"
   ]
  },
  {
   "cell_type": "code",
   "execution_count": 17,
   "metadata": {},
   "outputs": [
    {
     "data": {
      "text/plain": [
       "(Cell([10.4063, 18.6561, 9.8938]), Cell([10.4063, 18.6561, 9.8938]))"
      ]
     },
     "execution_count": 17,
     "metadata": {},
     "output_type": "execute_result"
    }
   ],
   "source": [
    "nafepo4_init.cell, nafepo4_final.cell"
   ]
  },
  {
   "cell_type": "code",
   "execution_count": 11,
   "metadata": {},
   "outputs": [
    {
     "data": {
      "text/plain": [
       "dict_keys(['global', 'train', 'Simulate', 'select', 'labeling'])"
      ]
     },
     "execution_count": 11,
     "metadata": {},
     "output_type": "execute_result"
    }
   ],
   "source": [
    "from pathlib import Path\n",
    "import toml, os\n",
    "import numpy as np\n",
    "\n",
    "### Paths ###\n",
    "main_path = Path('/home/energy/mahpe/Published_code/autocPaiNN') # path to the auto-cPaiNN code\n",
    "\n",
    "### Load config file ###\n",
    "config = toml.load(main_path/'config.toml')\n",
    "config.keys()"
   ]
  },
  {
   "cell_type": "code",
   "execution_count": 12,
   "metadata": {},
   "outputs": [
    {
     "name": "stdout",
     "output_type": "stream",
     "text": [
      "NO\n"
     ]
    }
   ],
   "source": [
    "if 'ensemble' in config['train'].keys():\n",
    "    print('Here')\n",
    "else: \n",
    "    print('NO')"
   ]
  },
  {
   "cell_type": "code",
   "execution_count": 14,
   "metadata": {},
   "outputs": [
    {
     "name": "stdout",
     "output_type": "stream",
     "text": [
      "INDEX_KW: pq_index\n",
      "DYNAMICWIDTHGROUP_KEY: pq_dwg_width\n",
      "CYCLICALGROUP_KEY: pq_toggle_key\n",
      "ITER_KW: pq_iteration\n"
     ]
    }
   ],
   "source": [
    "from perqueue.constants import INDEX_KW , DYNAMICWIDTHGROUP_KEY,CYCLICALGROUP_KEY, ITER_KW\n",
    "print('INDEX_KW:',INDEX_KW)\n",
    "print('DYNAMICWIDTHGROUP_KEY:',DYNAMICWIDTHGROUP_KEY)\n",
    "print('CYCLICALGROUP_KEY:',CYCLICALGROUP_KEY)\n",
    "print('ITER_KW:',ITER_KW)"
   ]
  },
  {
   "cell_type": "code",
   "execution_count": 6,
   "metadata": {},
   "outputs": [
    {
     "data": {
      "text/plain": [
       "(['NaCoPO4', 'NaFePO4', 'NaMnPO4', 'NaNiPO4'], 4)"
      ]
     },
     "execution_count": 6,
     "metadata": {},
     "output_type": "execute_result"
    }
   ],
   "source": [
    "# Find simulation keys\n",
    "run_list = list(config['MD']['runs'].keys())\n",
    "dmkey = len(run_list)\n",
    "run_list, dmkey"
   ]
  },
  {
   "cell_type": "code",
   "execution_count": 12,
   "metadata": {},
   "outputs": [
    {
     "data": {
      "text/plain": [
       "{'MD': {'time_step': 1,\n",
       "  'temperature': 1000,\n",
       "  'device': 'cuda',\n",
       "  'start_indice': 100,\n",
       "  'max_steps': 2000000,\n",
       "  'min_steps': 1000,\n",
       "  'dump_step': 100,\n",
       "  'print_step': 1,\n",
       "  'num_uncertain': 1000},\n",
       " 'NEB': {'fmax': 0.05,\n",
       "  'num_img': 5,\n",
       "  'friction_MD': 0.003,\n",
       "  'temperature_MD': 1500,\n",
       "  'time_MD': 1,\n",
       "  'time_step_MD': 1,\n",
       "  'print_step': 1},\n",
       " 'runs': {'NaCoPO4': {'method': 'MD',\n",
       "   'init_traj': 'Example_data/NaCoPO4.traj'},\n",
       "  'NaFePO4': {'method': 'MD', 'init_traj': 'Example_data/NaFePO4.traj'},\n",
       "  'NaMnPO4': {'method': 'MD', 'init_traj': 'Example_data/NaMnPO4.traj'},\n",
       "  'NaNiPO4': {'method': 'MD', 'init_traj': 'Example_data/NaNiPO4.traj'},\n",
       "  'NaFePO4_NEB': {'method': 'NEB',\n",
       "   'initial_image': 'Example_data/NaFePO4_init.traj',\n",
       "   'final_image': 'Example_data/NaFePO4_final.traj'}}}"
      ]
     },
     "execution_count": 12,
     "metadata": {},
     "output_type": "execute_result"
    }
   ],
   "source": [
    "config['Simulate']"
   ]
  }
 ],
 "metadata": {
  "kernelspec": {
   "display_name": "env_sylg",
   "language": "python",
   "name": "python3"
  },
  "language_info": {
   "codemirror_mode": {
    "name": "ipython",
    "version": 3
   },
   "file_extension": ".py",
   "mimetype": "text/x-python",
   "name": "python",
   "nbconvert_exporter": "python",
   "pygments_lexer": "ipython3",
   "version": "3.11.7"
  }
 },
 "nbformat": 4,
 "nbformat_minor": 2
}
