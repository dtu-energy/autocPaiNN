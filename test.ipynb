{
 "cells": [
  {
   "cell_type": "code",
   "execution_count": null,
   "metadata": {},
   "outputs": [],
   "source": [
    "from ase.io import read, write\n",
    "from ase.db import connect\n",
    "\n",
    "nafepo4 = read('/home/energy/mahpe/NaMPO4_olivine_FeMnCoNi/relaxation_newversion/0_Fe_Fe4Na4O16P4/OUTCAR',index=-1)\n",
    "namnpo4 = read('/home/energy/mahpe/NaMPO4_olivine_FeMnCoNi/relaxation_newversion/0_Mn_Mn4Na4O16P4/OUTCAR',index=-1)\n",
    "nacopo4 = read('/home/energy/mahpe/NaMPO4_olivine_FeMnCoNi/relaxation_newversion/0_Co_Co4Na4O16P4/OUTCAR',index=-1)\n",
    "nanipo4 = read('/home/energy/mahpe/NaMPO4_olivine_FeMnCoNi/relaxation_newversion/0_Ni_Ni4Na4O16P4/OUTCAR',index=-1)\n",
    "\n",
    "root_dir = '/home/energy/mahpe/Published_code/autocPaiNN/Example_data/'\n",
    "write(root_dir+'NaFePO4.traj',nafepo4)\n",
    "write(root_dir+'NaMnPO4.traj',namnpo4)\n",
    "write(root_dir+'NaCoPO4.traj',nacopo4)\n",
    "write(root_dir+'NaNiPO4.traj',nanipo4)"
   ]
  },
  {
   "cell_type": "code",
   "execution_count": 8,
   "metadata": {},
   "outputs": [],
   "source": [
    "from ase.io import read, write\n",
    "from ase.db import connect\n",
    "nafepo4_init = read('/home/energy/mahpe/NaMPO4_olivine_FeMnCoNi/NEB_relaxed_cell/initial/Fe24Na23O96P24/OUTCAR',index=0)\n",
    "namnpo4_final = read('/home/energy/mahpe/NaMPO4_olivine_FeMnCoNi/NEB_relaxed_cell/final/Fe24Na23O96P24/OUTCAR',index=0)\n",
    "root_dir = '/home/energy/mahpe/Published_code/autocPaiNN/Example_data/'\n",
    "write(root_dir+'NaFePO4_init.traj',nafepo4_init)\n",
    "write(root_dir+'NaMnPO4_final.traj',namnpo4_final)"
   ]
  },
  {
   "cell_type": "code",
   "execution_count": 3,
   "metadata": {},
   "outputs": [
    {
     "data": {
      "text/plain": [
       "dict_keys(['global', 'train', 'MD', 'select', 'labeling'])"
      ]
     },
     "execution_count": 3,
     "metadata": {},
     "output_type": "execute_result"
    }
   ],
   "source": [
    "from pathlib import Path\n",
    "import toml, os\n",
    "import numpy as np\n",
    "\n",
    "### Paths ###\n",
    "main_path = Path('/home/energy/mahpe/Published_code/autocPaiNN') # path to the auto-cPaiNN code\n",
    "\n",
    "### Load config file ###\n",
    "config = toml.load(main_path/'config.toml')\n",
    "config.keys()"
   ]
  },
  {
   "cell_type": "code",
   "execution_count": 12,
   "metadata": {},
   "outputs": [
    {
     "name": "stdout",
     "output_type": "stream",
     "text": [
      "NO\n"
     ]
    }
   ],
   "source": [
    "if 'ensemble' in config['train'].keys():\n",
    "    print('Here')\n",
    "else: \n",
    "    print('NO')"
   ]
  },
  {
   "cell_type": "code",
   "execution_count": 14,
   "metadata": {},
   "outputs": [
    {
     "name": "stdout",
     "output_type": "stream",
     "text": [
      "INDEX_KW: pq_index\n",
      "DYNAMICWIDTHGROUP_KEY: pq_dwg_width\n",
      "CYCLICALGROUP_KEY: pq_toggle_key\n",
      "ITER_KW: pq_iteration\n"
     ]
    }
   ],
   "source": [
    "from perqueue.constants import INDEX_KW , DYNAMICWIDTHGROUP_KEY,CYCLICALGROUP_KEY, ITER_KW\n",
    "print('INDEX_KW:',INDEX_KW)\n",
    "print('DYNAMICWIDTHGROUP_KEY:',DYNAMICWIDTHGROUP_KEY)\n",
    "print('CYCLICALGROUP_KEY:',CYCLICALGROUP_KEY)\n",
    "print('ITER_KW:',ITER_KW)"
   ]
  },
  {
   "cell_type": "code",
   "execution_count": 6,
   "metadata": {},
   "outputs": [
    {
     "data": {
      "text/plain": [
       "(['NaCoPO4', 'NaFePO4', 'NaMnPO4', 'NaNiPO4'], 4)"
      ]
     },
     "execution_count": 6,
     "metadata": {},
     "output_type": "execute_result"
    }
   ],
   "source": [
    "# Find simulation keys\n",
    "run_list = list(config['MD']['runs'].keys())\n",
    "dmkey = len(run_list)\n",
    "run_list, dmkey"
   ]
  }
 ],
 "metadata": {
  "kernelspec": {
   "display_name": "env_sylg",
   "language": "python",
   "name": "python3"
  },
  "language_info": {
   "codemirror_mode": {
    "name": "ipython",
    "version": 3
   },
   "file_extension": ".py",
   "mimetype": "text/x-python",
   "name": "python",
   "nbconvert_exporter": "python",
   "pygments_lexer": "ipython3",
   "version": "3.11.7"
  }
 },
 "nbformat": 4,
 "nbformat_minor": 2
}
